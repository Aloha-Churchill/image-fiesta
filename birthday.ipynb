{
 "cells": [
  {
   "cell_type": "code",
   "execution_count": null,
   "metadata": {},
   "outputs": [],
   "source": [
    "from PIL import Image\n",
    "\n",
    "\n",
    "\n",
    "print(\"Generating stenographic image\")\n",
    "def message_to_bin(message):\n",
    "    '''Convert a string message to binary.'''\n",
    "    binary_message = ''.join(format(ord(char), '08b') for char in message)\n",
    "    return binary_message\n",
    "\n",
    "def embed_message(image_path, message):\n",
    "    '''Embed a message into an image.'''\n",
    "    \n",
    "    binary_message = message_to_bin(message)\n",
    "    binary_message += '1111111111111110'  # Add a 16-bit delimiter which indicates end of the text\n",
    "    image = Image.open(image_path).convert(\"RGB\")\n",
    "    pixels = list(image.getdata())\n",
    "    new_pixels = []\n",
    "    message_idx = 0\n",
    "\n",
    "    for pixel in pixels:\n",
    "        # If there's more message to embed, do it\n",
    "        if message_idx < len(binary_message):\n",
    "            # Embed 1 bit in each color channel (R, G, B)\n",
    "            new_pixel = [(pixel[i] & ~1) | (int(binary_message[message_idx + i]) if message_idx + i < len(binary_message) else 0) for i in range(3)]\n",
    "            message_idx += 3\n",
    "        else:\n",
    "            new_pixel = pixel\n",
    "        new_pixels.append(tuple(new_pixel))\n",
    "    \n",
    "\n",
    "    # Create a new image with the modified pixels\n",
    "    image.putdata(new_pixels)\n",
    "    return image\n",
    "\n",
    "# Test the embed function\n",
    "image_path = \"ico.png\" \n",
    "message = \"Happy Birthday\"\n",
    "embedded_image = embed_message(image_path, message)\n",
    "embedded_image.save(\"embedded_image.jpg\")\n",
    "\n"
   ]
  },
  {
   "cell_type": "code",
   "execution_count": null,
   "metadata": {},
   "outputs": [],
   "source": []
  }
 ],
 "metadata": {
  "kernelspec": {
   "display_name": "aloha_dome",
   "language": "python",
   "name": "python3"
  },
  "language_info": {
   "name": "python",
   "version": "3.8.10"
  },
  "orig_nbformat": 4
 },
 "nbformat": 4,
 "nbformat_minor": 2
}
