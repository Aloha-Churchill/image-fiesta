{
 "cells": [
  {
   "cell_type": "code",
   "execution_count": 16,
   "metadata": {},
   "outputs": [],
   "source": [
    "from PIL import Image\n",
    "from IPython.display import display\n"
   ]
  },
  {
   "cell_type": "code",
   "execution_count": 17,
   "metadata": {},
   "outputs": [],
   "source": [
    "\n",
    "\n",
    "def message_to_bin(message):\n",
    "    '''Convert a string message to binary.'''\n",
    "    binary_message = ''.join(format(ord(char), '08b') for char in message)\n",
    "    return binary_message\n",
    "\n",
    "def embed_message(image_path, message):\n",
    "    '''Embed a message into an image.'''\n",
    "    \n",
    "    binary_message = message_to_bin(message)\n",
    "    binary_message += '1111111111111110'  # Add a 16-bit delimiter which indicates end of the text\n",
    "    image = Image.open(image_path).convert(\"RGB\")\n",
    "    pixels = list(image.getdata())\n",
    "    new_pixels = []\n",
    "    message_idx = 0\n",
    "\n",
    "    for pixel in pixels:\n",
    "        # If there's more message to embed, do it\n",
    "        if message_idx < len(binary_message):\n",
    "            # Embed 1 bit in each color channel (R, G, B)\n",
    "            new_pixel = [(pixel[i] & ~1) | (int(binary_message[message_idx + i]) if message_idx + i < len(binary_message) else 0) for i in range(3)]\n",
    "            message_idx += 3\n",
    "        else:\n",
    "            new_pixel = pixel\n",
    "        new_pixels.append(tuple(new_pixel))\n",
    "    \n",
    "\n",
    "    # Create a new image with the modified pixels\n",
    "    image.putdata(new_pixels)\n",
    "    return image\n",
    "\n"
   ]
  },
  {
   "cell_type": "code",
   "execution_count": 18,
   "metadata": {},
   "outputs": [
    {
     "name": "stdout",
     "output_type": "stream",
     "text": [
      "Stenographic image generated\n"
     ]
    },
    {
     "data": {
      "image/png": "[encoded data removed]",
      "text/plain": [
       "<PIL.Image.Image image mode=RGB size=900x900 at 0x7FD4000CBEB0>"
      ]
     },
     "metadata": {},
     "output_type": "display_data"
    }
   ],
   "source": [
    "# Test the embed function\n",
    "image_path = \"ico.png\" \n",
    "message = \"Happy Birthday\"\n",
    "embedded_image = embed_message(image_path, message)\n",
    "embedded_image.save(\"embedded_image.jpg\")\n",
    "print(\"Stenographic image generated\")\n",
    "# show image\n",
    "display(embedded_image)"
   ]
  },
  {
   "cell_type": "code",
   "execution_count": 19,
   "metadata": {},
   "outputs": [],
   "source": [
    "import hashlib\n",
    "import math"
   ]
  },
  {
   "cell_type": "code",
   "execution_count": 20,
   "metadata": {},
   "outputs": [
    {
     "data": {
      "image/png": "[encoded data removed]",
      "text/plain": [
       "<PIL.Image.Image image mode=RGB size=63x64 at 0x7FD3DDFD9D30>"
      ]
     },
     "metadata": {},
     "output_type": "display_data"
    }
   ],
   "source": [
    "\n",
    "\n",
    "def text_to_binary(text):\n",
    "    '''Convert text to its binary representation.'''\n",
    "    return ''.join(format(ord(char), '08b') for char in text)\n",
    "\n",
    "def binary_to_hashed_rgb(binary_string):\n",
    "    '''Convert a binary string to an RGB tuple using SHA-256 hash.'''\n",
    "    sha256_hash = hashlib.sha256(binary_string.encode()).hexdigest()\n",
    "    # Extract RGB values from the hash\n",
    "    return (int(sha256_hash[:2], 16), int(sha256_hash[2:4], 16), int(sha256_hash[4:6], 16))\n",
    "\n",
    "def generate_image_from_text(text):\n",
    "    '''Generate an image from the binary representation of text with height of 1 pixel.'''\n",
    "    binary_repr = text_to_binary(text)\n",
    "    \n",
    "    # Ensure that the binary representation length is a multiple of 24\n",
    "    while len(binary_repr) % 24 != 0:\n",
    "        binary_repr += '0'\n",
    "    \n",
    "    # Convert binary to RGB values\n",
    "    pixels = [binary_to_hashed_rgb(binary_repr[i:i+24]) for i in range(0, len(binary_repr), 24)]\n",
    "    \n",
    "    # Set width to the number of pixels and height to 1\n",
    "    width = len(pixels)\n",
    "    height = 1\n",
    "    \n",
    "    # Create the image\n",
    "    image = Image.new('RGB', (width, height))\n",
    "    image.putdata(pixels)\n",
    "    return image\n",
    "\n",
    "\n",
    "def generate_normalized_image_from_text(text, width=256):\n",
    "    '''Generate an image with a normalized width from the binary representation of text.'''\n",
    "    # Generate the image from text\n",
    "    image = generate_image_from_text(text)\n",
    "    \n",
    "    # Resize the image to the desired width while keeping the height as 1\n",
    "    image = image.resize((width, 1))\n",
    "    return image\n",
    "\n",
    "def stack_images_vertically(images):\n",
    "    '''Stack a list of images vertically.'''\n",
    "    total_width = images[0].width\n",
    "    total_height = sum(img.height for img in images)\n",
    "    \n",
    "    # Create a blank image with the calculated width and height\n",
    "    stacked_image = Image.new('RGB', (total_width, total_height))\n",
    "    \n",
    "    # Paste each image into the stacked image\n",
    "    y_offset = 0\n",
    "    for img in images:\n",
    "        stacked_image.paste(img, (0, y_offset))\n",
    "        y_offset += img.height\n",
    "        \n",
    "    return stacked_image\n",
    "\n",
    "# Sample list of phrases\n",
    "phrases = [\"Happy Birthday\", \"Best Wishes\", \"Congratulations\", \"Party Time\", \"Cheers\", \"With Love\"]\n",
    "\n",
    "# Read the content of the text file\n",
    "with open(\"cookie.txt\", \"r\") as file:\n",
    "    content = file.read()\n",
    "\n",
    "# Determine the number of segments and segment length\n",
    "num_segments = int(math.sqrt(len(content)))\n",
    "segment_length = len(content) // num_segments\n",
    "\n",
    "# Split the text into segments\n",
    "segments = [content[i:i+segment_length] for i in range(0, len(content), segment_length)]\n",
    "\n",
    "# Adjust the last segment if there's any leftover content\n",
    "if len(segments[-1]) < segment_length:\n",
    "    segments[-1] += \" \" * (segment_length - len(segments[-1]))\n",
    "\n",
    "segments[:5]  # Display the first 5 segments for verification\n",
    "\n",
    "# Generate normalized images for each segment and stack them\n",
    "images = [generate_normalized_image_from_text(segment, width=num_segments) for segment in segments]\n",
    "final_square_image = stack_images_vertically(images)\n",
    "\n",
    "# show image in jupyter notebook\n",
    "\n",
    "display(final_square_image)\n",
    "\n",
    "\n",
    "\n",
    "# Generate normalized images for each phrase and stack them\n",
    "# images = [generate_normalized_image_from_text(phrase) for phrase in phrases]\n",
    "# final_image = stack_images_vertically(images)\n",
    "# final_image.show()\n",
    "\n",
    "\n",
    "# # Test the function with a sample text\n",
    "# text_sample = \"hello. \"\n",
    "# image_from_text = generate_image_from_text(text_sample)\n",
    "# image_from_text.show()"
   ]
  },
  {
   "cell_type": "code",
   "execution_count": 12,
   "metadata": {},
   "outputs": [],
   "source": [
    "# Description: This file contains functions to encrypt and decrypt data using AES.\n",
    "# Run: pip install pycryptodome\n",
    "from Crypto.Cipher import AES\n",
    "from Crypto.Random import get_random_bytes\n",
    "\n"
   ]
  },
  {
   "cell_type": "code",
   "execution_count": 13,
   "metadata": {},
   "outputs": [],
   "source": [
    "\n",
    "# Encrypting\n",
    "def encrypt_file(filename):\n",
    "    # Read file contents\n",
    "    with open(filename, 'r') as file_in:\n",
    "        data = file_in.read()\n",
    "    file_in.close()\n",
    "\n",
    "    key = get_random_bytes(16)  # Generate a random key\n",
    "    # write key to a file called key.txt\n",
    "    with open('key.txt', 'wb') as file_key:\n",
    "        file_key.write(key)\n",
    "\n",
    "    file_key.close()\n",
    "\n",
    "    cipher = AES.new(key, AES.MODE_EAX)\n",
    "    ciphertext, tag = cipher.encrypt_and_digest(data.encode('utf-8'))\n",
    "\n",
    "    # write ciphertext to a file called encrypted.txt\n",
    "    with open('encrypted.bin', 'wb') as file_out:\n",
    "        [file_out.write(x) for x in (cipher.nonce, tag, ciphertext)]\n",
    "    file_out.close()"
   ]
  },
  {
   "cell_type": "code",
   "execution_count": 14,
   "metadata": {},
   "outputs": [],
   "source": [
    "def decrypt_file(filename):\n",
    "    # Read encrypted contents\n",
    "    with open(filename, 'rb') as file_in:\n",
    "        nonce, tag, ciphertext = [file_in.read(x) for x in (16, 16, -1)]\n",
    "    file_in.close()\n",
    "\n",
    "    # Read key\n",
    "    with open('key.txt', 'rb') as file_key:\n",
    "        key = file_key.read()\n",
    "    file_key.close()\n",
    "\n",
    "    cipher = AES.new(key, AES.MODE_EAX, nonce)\n",
    "    data = cipher.decrypt_and_verify(ciphertext, tag)\n",
    "\n",
    "    # write decrypted contents to a file called decrypted.txt\n",
    "    with open('decrypted.txt', 'wb') as file_out:\n",
    "        file_out.write(data)\n",
    "    file_out.close()"
   ]
  },
  {
   "cell_type": "code",
   "execution_count": 15,
   "metadata": {},
   "outputs": [],
   "source": [
    "choice = input(\"Encrypt or decrypt? (e/d): \")\n",
    "if choice == 'e':\n",
    "    # Here, you can either hardcode a key, generate one, or ask the user to provide one.\n",
    "    encrypt_file('card.txt')\n",
    "elif choice == 'd':\n",
    "    decrypt_file('encrypted.bin')"
   ]
  },
  {
   "cell_type": "code",
   "execution_count": null,
   "metadata": {},
   "outputs": [],
   "source": []
  }
 ],
 "metadata": {
  "kernelspec": {
   "display_name": "aloha_dome",
   "language": "python",
   "name": "python3"
  },
  "language_info": {
   "codemirror_mode": {
    "name": "ipython",
    "version": 3
   },
   "file_extension": ".py",
   "mimetype": "text/x-python",
   "name": "python",
   "nbconvert_exporter": "python",
   "pygments_lexer": "ipython3",
   "version": "3.8.10"
  },
  "orig_nbformat": 4
 },
 "nbformat": 4,
 "nbformat_minor": 2
}
